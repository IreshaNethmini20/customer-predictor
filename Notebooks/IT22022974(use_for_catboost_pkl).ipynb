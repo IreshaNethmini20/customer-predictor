{
 "cells": [
  {
   "cell_type": "markdown",
   "metadata": {},
   "source": [
    "# Travel Customer Satisfaction Prediction Analysis\n",
    "\n",
    "## Project Overview\n",
    "- **Dataset**: 547,568 travel records with 16 features\n",
    "- **Objective**: Predict customer satisfaction categories (Low, Medium, High)\n",
    "- **Models**: CatBoost Model\n",
    "---"
   ]
  },
  {
   "cell_type": "markdown",
   "metadata": {},
   "source": [
    "## 1. Import Libraries"
   ]
  },
  {
   "cell_type": "code",
   "execution_count": 1,
   "metadata": {},
   "outputs": [],
   "source": [
    "import pandas as pd\n",
    "import numpy as np\n",
    "from sklearn.model_selection import train_test_split\n",
    "from sklearn.preprocessing import LabelEncoder\n",
    "from sklearn.metrics import classification_report, confusion_matrix, f1_score, balanced_accuracy_score\n",
    "from catboost import CatBoostClassifier\n",
    "from collections import Counter\n",
    "import warnings\n",
    "warnings.filterwarnings('ignore')"
   ]
  },
  {
   "cell_type": "markdown",
   "metadata": {},
   "source": [
    "## 2. Load and Explore Data"
   ]
  },
  {
   "cell_type": "code",
   "execution_count": 2,
   "metadata": {
    "id": "kvtqxCafV60a"
   },
   "outputs": [
    {
     "name": "stdout",
     "output_type": "stream",
     "text": [
      "Dataset shape: (547568, 16)\n"
     ]
    },
    {
     "data": {
      "text/html": [
       "<div>\n",
       "<style scoped>\n",
       "    .dataframe tbody tr th:only-of-type {\n",
       "        vertical-align: middle;\n",
       "    }\n",
       "\n",
       "    .dataframe tbody tr th {\n",
       "        vertical-align: top;\n",
       "    }\n",
       "\n",
       "    .dataframe thead th {\n",
       "        text-align: right;\n",
       "    }\n",
       "</style>\n",
       "<table border=\"1\" class=\"dataframe\">\n",
       "  <thead>\n",
       "    <tr style=\"text-align: right;\">\n",
       "      <th></th>\n",
       "      <th>Age</th>\n",
       "      <th>Gender</th>\n",
       "      <th>Occupation</th>\n",
       "      <th>Travel Class</th>\n",
       "      <th>Destination</th>\n",
       "      <th>State of Residence</th>\n",
       "      <th>Duration of Stay (Days)</th>\n",
       "      <th>Number of Companions</th>\n",
       "      <th>Purpose of Travel</th>\n",
       "      <th>Transportation Type</th>\n",
       "      <th>Booking Date</th>\n",
       "      <th>Departure Date</th>\n",
       "      <th>Special Requests</th>\n",
       "      <th>Loyalty Program Member</th>\n",
       "      <th>Customer Satisfaction Score</th>\n",
       "      <th>Total Price</th>\n",
       "    </tr>\n",
       "  </thead>\n",
       "  <tbody>\n",
       "    <tr>\n",
       "      <th>0</th>\n",
       "      <td>NaN</td>\n",
       "      <td>Female</td>\n",
       "      <td>Marketer</td>\n",
       "      <td>Business</td>\n",
       "      <td>Naples, Italy</td>\n",
       "      <td>Georgia</td>\n",
       "      <td>11.0</td>\n",
       "      <td>5</td>\n",
       "      <td>Tourism</td>\n",
       "      <td>Flying</td>\n",
       "      <td>2024-09-29</td>\n",
       "      <td>2025-01-07</td>\n",
       "      <td>Other</td>\n",
       "      <td>No</td>\n",
       "      <td>105.0</td>\n",
       "      <td>9217.06</td>\n",
       "    </tr>\n",
       "    <tr>\n",
       "      <th>1</th>\n",
       "      <td>22.0</td>\n",
       "      <td>Male</td>\n",
       "      <td>Curator</td>\n",
       "      <td>Economy</td>\n",
       "      <td>Auckland, New Zealand</td>\n",
       "      <td>North Dakota</td>\n",
       "      <td>23.0</td>\n",
       "      <td>0</td>\n",
       "      <td>Research</td>\n",
       "      <td>Flying</td>\n",
       "      <td>2025-09-02</td>\n",
       "      <td>2025-12-26</td>\n",
       "      <td>Other</td>\n",
       "      <td>No</td>\n",
       "      <td>102.0</td>\n",
       "      <td>1462.33</td>\n",
       "    </tr>\n",
       "    <tr>\n",
       "      <th>2</th>\n",
       "      <td>62.0</td>\n",
       "      <td>Female</td>\n",
       "      <td>Businessperson</td>\n",
       "      <td>Luxury</td>\n",
       "      <td>Tokyo, Japan</td>\n",
       "      <td>Nebraska</td>\n",
       "      <td>4.0</td>\n",
       "      <td>1</td>\n",
       "      <td>Tourism</td>\n",
       "      <td>Flying</td>\n",
       "      <td>2024-02-19</td>\n",
       "      <td>2025-01-04</td>\n",
       "      <td>NaN</td>\n",
       "      <td>Yes</td>\n",
       "      <td>100.0</td>\n",
       "      <td>700.00</td>\n",
       "    </tr>\n",
       "    <tr>\n",
       "      <th>3</th>\n",
       "      <td>21.0</td>\n",
       "      <td>Female</td>\n",
       "      <td>Photographer</td>\n",
       "      <td>Economy</td>\n",
       "      <td>Granada, Spain</td>\n",
       "      <td>Nevada</td>\n",
       "      <td>23.0</td>\n",
       "      <td>1</td>\n",
       "      <td>Tourism</td>\n",
       "      <td>Flying</td>\n",
       "      <td>2023-05-07</td>\n",
       "      <td>2024-02-09</td>\n",
       "      <td>NaN</td>\n",
       "      <td>No</td>\n",
       "      <td>108.0</td>\n",
       "      <td>1333.22</td>\n",
       "    </tr>\n",
       "    <tr>\n",
       "      <th>4</th>\n",
       "      <td>42.0</td>\n",
       "      <td>Male</td>\n",
       "      <td>Soldier</td>\n",
       "      <td>Luxury</td>\n",
       "      <td>Jeju Island, South Korea</td>\n",
       "      <td>Minnesota</td>\n",
       "      <td>42.0</td>\n",
       "      <td>1</td>\n",
       "      <td></td>\n",
       "      <td>Flying</td>\n",
       "      <td>2023-07-01</td>\n",
       "      <td>2024-03-15</td>\n",
       "      <td>Special Meal</td>\n",
       "      <td>No</td>\n",
       "      <td>97.0</td>\n",
       "      <td>700.00</td>\n",
       "    </tr>\n",
       "  </tbody>\n",
       "</table>\n",
       "</div>"
      ],
      "text/plain": [
       "    Age  Gender      Occupation Travel Class               Destination  \\\n",
       "0   NaN  Female        Marketer     Business             Naples, Italy   \n",
       "1  22.0    Male         Curator      Economy     Auckland, New Zealand   \n",
       "2  62.0  Female  Businessperson       Luxury              Tokyo, Japan   \n",
       "3  21.0  Female    Photographer      Economy            Granada, Spain   \n",
       "4  42.0    Male         Soldier       Luxury  Jeju Island, South Korea   \n",
       "\n",
       "  State of Residence  Duration of Stay (Days)  Number of Companions  \\\n",
       "0            Georgia                     11.0                     5   \n",
       "1       North Dakota                     23.0                     0   \n",
       "2           Nebraska                      4.0                     1   \n",
       "3             Nevada                     23.0                     1   \n",
       "4          Minnesota                     42.0                     1   \n",
       "\n",
       "  Purpose of Travel Transportation Type Booking Date Departure Date  \\\n",
       "0           Tourism              Flying   2024-09-29     2025-01-07   \n",
       "1          Research              Flying   2025-09-02     2025-12-26   \n",
       "2           Tourism              Flying   2024-02-19     2025-01-04   \n",
       "3           Tourism              Flying   2023-05-07     2024-02-09   \n",
       "4                                Flying   2023-07-01     2024-03-15   \n",
       "\n",
       "  Special Requests Loyalty Program Member  Customer Satisfaction Score  \\\n",
       "0            Other                     No                        105.0   \n",
       "1            Other                     No                        102.0   \n",
       "2              NaN                    Yes                        100.0   \n",
       "3              NaN                     No                        108.0   \n",
       "4     Special Meal                     No                         97.0   \n",
       "\n",
       "   Total Price  \n",
       "0      9217.06  \n",
       "1      1462.33  \n",
       "2       700.00  \n",
       "3      1333.22  \n",
       "4       700.00  "
      ]
     },
     "execution_count": 2,
     "metadata": {},
     "output_type": "execute_result"
    }
   ],
   "source": [
    "# Load dataset\n",
    "df = pd.read_csv(\"C:\\\\Users\\\\imash\\\\Downloads\\\\cleaned_travel_prices1.csv\")\n",
    "print(f\"Dataset shape: {df.shape}\")\n",
    "df.head()"
   ]
  },
  {
   "cell_type": "markdown",
   "metadata": {
    "id": "iW3Pt9EwXZtx"
   },
   "source": [
    "# Data Cleaning"
   ]
  },
  {
   "cell_type": "code",
   "execution_count": 3,
   "metadata": {
    "colab": {
     "base_uri": "https://localhost:8080/",
     "height": 345
    },
    "id": "nUBbEohJWlGC",
    "outputId": "a31e88d8-4136-497a-fcb8-15f2794c166f"
   },
   "outputs": [
    {
     "name": "stdout",
     "output_type": "stream",
     "text": [
      "Missing values:\n",
      "Age                   160499\n",
      "Occupation              3960\n",
      "State of Residence     45321\n",
      "Special Requests      109350\n",
      "dtype: int64\n"
     ]
    }
   ],
   "source": [
    "# Check missing values\n",
    "missing_data = df.isnull().sum()\n",
    "print(\"Missing values:\")\n",
    "print(missing_data[missing_data > 0])"
   ]
  },
  {
   "cell_type": "code",
   "execution_count": 4,
   "metadata": {},
   "outputs": [
    {
     "name": "stdout",
     "output_type": "stream",
     "text": [
      "Purpose of Travel    109162\n",
      "dtype: int64\n"
     ]
    }
   ],
   "source": [
    "# Check for columns that contain blank or whitespace-only strings\n",
    "string_cols = df.select_dtypes(include=['object'])\n",
    "blank_counts = (string_cols.apply(lambda col: (col.str.strip() == '').sum()))\n",
    "print(blank_counts[blank_counts > 0])"
   ]
  },
  {
   "cell_type": "code",
   "execution_count": 5,
   "metadata": {
    "id": "Wn4bvJDbdwH4"
   },
   "outputs": [],
   "source": [
    "# Removing unnecessary spaces (leading and trailing)\n",
    "# Clean column names\n",
    "df.columns = [col.replace(\" \", \"_\") for col in df.columns]\n",
    "for col in df.select_dtypes(include=['object']).columns:\n",
    "    df[col] = df[col].str.strip()"
   ]
  },
  {
   "cell_type": "code",
   "execution_count": 6,
   "metadata": {},
   "outputs": [
    {
     "name": "stdout",
     "output_type": "stream",
     "text": [
      "First 10 rows with split destination:\n",
      "                Destination Destination_City Destination_Country\n",
      "0             Naples, Italy           Naples               Italy\n",
      "1     Auckland, New Zealand         Auckland         New Zealand\n",
      "2              Tokyo, Japan            Tokyo               Japan\n",
      "3            Granada, Spain          Granada               Spain\n",
      "4  Jeju Island, South Korea      Jeju Island         South Korea\n",
      "5             Paris, France            Paris              France\n",
      "6   Interlaken, Switzerland       Interlaken         Switzerland\n",
      "7                 Hong Kong        Hong Kong             Unknown\n",
      "8         Budapest, Hungary         Budapest             Hungary\n",
      "9   Wellington, New Zealand       Wellington         New Zealand\n"
     ]
    }
   ],
   "source": [
    "# Function to split destination into city and country\n",
    "def split_destination(destination):\n",
    "    if pd.isna(destination):\n",
    "        return 'Unknown', 'Unknown'\n",
    "    \n",
    "    # Remove extra spaces and split by comma\n",
    "    destination = str(destination).strip()\n",
    "    \n",
    "    if ',' in destination:\n",
    "        parts = destination.split(',')\n",
    "        if len(parts) >= 2:\n",
    "            city = parts[0].strip()\n",
    "            country = parts[-1].strip()  # Take the last part as country\n",
    "            return city, country\n",
    "    \n",
    "    # If no comma found, treat the whole string as city\n",
    "    return destination, 'Unknown'\n",
    "\n",
    "# Apply the function to split destinations\n",
    "df[['Destination_City', 'Destination_Country']] = df['Destination'].apply(\n",
    "    lambda x: pd.Series(split_destination(x))\n",
    ")\n",
    "\n",
    "# Display the results\n",
    "print(\"First 10 rows with split destination:\")\n",
    "print(df[['Destination', 'Destination_City', 'Destination_Country']].head(10))"
   ]
  },
  {
   "cell_type": "markdown",
   "metadata": {
    "id": "CXzldrJcY3Xr"
   },
   "source": [
    "### Dealing with Missing/Null Age Values"
   ]
  },
  {
   "cell_type": "markdown",
   "metadata": {
    "id": "QW60nIlHbOY7"
   },
   "source": [
    "##### Find Age Normally Distribute or not"
   ]
  },
  {
   "cell_type": "code",
   "execution_count": 7,
   "metadata": {
    "colab": {
     "base_uri": "https://localhost:8080/"
    },
    "id": "UuVbT8sqZIu5",
    "outputId": "c283ce63-0344-44a7-e3dc-7a0dfa38338c"
   },
   "outputs": [
    {
     "name": "stdout",
     "output_type": "stream",
     "text": [
      "count    387069.000000\n",
      "mean         39.698196\n",
      "std          16.929612\n",
      "min          18.000000\n",
      "25%          26.000000\n",
      "50%          36.000000\n",
      "75%          50.000000\n",
      "max          99.000000\n",
      "Name: Age, dtype: float64\n",
      "Skewness: 0.8256305343916472\n"
     ]
    }
   ],
   "source": [
    "print(df['Age'].describe())\n",
    "\n",
    "skewness = df['Age'].skew()\n",
    "print('Skewness:', skewness)"
   ]
  },
  {
   "cell_type": "markdown",
   "metadata": {
    "id": "YeO7ngzebcxK"
   },
   "source": [
    "##### Use median imputation because the 'Age' data is right-skewed. The median (36.0) is a more robust measure of central tendency than the mean (39.7) as it is not influenced by the higher-value outliers."
   ]
  },
  {
   "cell_type": "code",
   "execution_count": 8,
   "metadata": {
    "colab": {
     "base_uri": "https://localhost:8080/"
    },
    "id": "4IRIYXvJZpJl",
    "outputId": "41ebf8bb-5a85-4800-9f21-823bca8a75e6"
   },
   "outputs": [
    {
     "name": "stdout",
     "output_type": "stream",
     "text": [
      "0\n"
     ]
    }
   ],
   "source": [
    "df['Age'] = df['Age'].fillna(df['Age'].median())\n",
    "# Check for null values in the Age column again\n",
    "print(df['Age'].isnull().sum())\n"
   ]
  },
  {
   "cell_type": "markdown",
   "metadata": {
    "id": "_W89F_odcrnc"
   },
   "source": [
    "### Dealing with Missing/Null Occupation,State_of_Residence,Purpose of Travel  Values"
   ]
  },
  {
   "cell_type": "code",
   "execution_count": 9,
   "metadata": {
    "id": "6y6zJNy9cMKS"
   },
   "outputs": [],
   "source": [
    "df['Gender'] = df['Gender'].fillna(\"Unknown\")\n",
    "df['Occupation'] = df['Occupation'].fillna('Unknown')\n",
    "df['State_of_Residence'] = df['State_of_Residence'].fillna('Unknown')\n",
    "df['Purpose_of_Travel'] = df['Purpose_of_Travel'].str.strip().replace('', 'Unknown')"
   ]
  },
  {
   "cell_type": "code",
   "execution_count": 10,
   "metadata": {
    "colab": {
     "base_uri": "https://localhost:8080/"
    },
    "id": "gqyZyY6phuly",
    "outputId": "6b3483f2-9037-4364-a13e-2b13cab03b33"
   },
   "outputs": [
    {
     "name": "stdout",
     "output_type": "stream",
     "text": [
      "Missing Gender values: 0\n",
      "Missing State_of_Residence values: 0\n",
      "Empty Purpose_of_Travel values: 0\n",
      "Missing Occupation values: 0\n"
     ]
    }
   ],
   "source": [
    "print(\"Missing Gender values:\", df['Gender'].isnull().sum())\n",
    "print(\"Missing State_of_Residence values:\", df['State_of_Residence'].isnull().sum())\n",
    "print(\"Empty Purpose_of_Travel values:\", (df['Purpose_of_Travel'].str.strip() == '').sum())\n",
    "print(\"Missing Occupation values:\", df['Occupation'].isnull().sum())"
   ]
  },
  {
   "cell_type": "markdown",
   "metadata": {
    "id": "83cmod8ziHJf"
   },
   "source": [
    "### Dealing with Missing/Null Special Requests Values"
   ]
  },
  {
   "cell_type": "code",
   "execution_count": 11,
   "metadata": {
    "colab": {
     "base_uri": "https://localhost:8080/"
    },
    "id": "VD2AHPG-iebh",
    "outputId": "bf756a03-f015-4690-e3b8-e2e64e3e193d"
   },
   "outputs": [
    {
     "name": "stdout",
     "output_type": "stream",
     "text": [
      "Unique values in Special_Requests: ['Other' nan 'Special Meal' 'Window Seat' 'Extra Space Suit']\n",
      "\n",
      "Value counts for Special_Requests:\n",
      " Special_Requests\n",
      "Window Seat         109985\n",
      "Special Meal        109599\n",
      "Extra Space Suit    109546\n",
      "Other               109088\n",
      "Name: count, dtype: int64\n",
      "\n",
      "Missing values in Special_Requests after fillna: 0\n"
     ]
    }
   ],
   "source": [
    "# See all unique values\n",
    "print(\"Unique values in Special_Requests:\", df['Special_Requests'].unique())\n",
    "\n",
    "# Count how many times each value occurs\n",
    "print(\"\\nValue counts for Special_Requests:\\n\", df['Special_Requests'].value_counts())\n",
    "\n",
    "# Replace missing values (NaN) with 'No'\n",
    "df['Special_Requests'] = df['Special_Requests'].fillna('No')\n",
    "\n",
    "# Check if any missing values are left\n",
    "print(\"\\nMissing values in Special_Requests after fillna:\", df['Special_Requests'].isnull().sum())\n"
   ]
  },
  {
   "cell_type": "markdown",
   "metadata": {
    "id": "98B-kxxus3M-"
   },
   "source": [
    "### Check Duplicates"
   ]
  },
  {
   "cell_type": "code",
   "execution_count": 12,
   "metadata": {
    "colab": {
     "base_uri": "https://localhost:8080/"
    },
    "id": "ccc4nkVXsdxo",
    "outputId": "38603f6d-4ac9-4bb7-aee2-7ec515b2efb3"
   },
   "outputs": [
    {
     "data": {
      "text/plain": [
       "np.int64(0)"
      ]
     },
     "execution_count": 12,
     "metadata": {},
     "output_type": "execute_result"
    }
   ],
   "source": [
    "df.duplicated().sum()"
   ]
  },
  {
   "cell_type": "markdown",
   "metadata": {},
   "source": []
  },
  {
   "cell_type": "code",
   "execution_count": 13,
   "metadata": {},
   "outputs": [],
   "source": [
    "df = df.drop(columns=['Transportation_Type'])\n",
    "df = df.drop(columns=['Destination'])"
   ]
  },
  {
   "cell_type": "markdown",
   "metadata": {
    "id": "49rjIsiRtL0L"
   },
   "source": [
    "## 4. Target Variable Engineering\n",
    "\n",
    "**Approach**: Percentile-based binning to handle skewed satisfaction scores and create balanced classes."
   ]
  },
  {
   "cell_type": "code",
   "execution_count": 14,
   "metadata": {
    "colab": {
     "base_uri": "https://localhost:8080/"
    },
    "id": "KdME0iUrs2PN",
    "outputId": "de96a714-f31d-4e58-843a-96dff20d232a"
   },
   "outputs": [
    {
     "name": "stdout",
     "output_type": "stream",
     "text": [
      "Minimum score: 32.25\n",
      "Maximum score: 115.0\n",
      "count    547568.000000\n",
      "mean        101.660112\n",
      "std           9.292661\n",
      "min          32.250000\n",
      "25%         100.000000\n",
      "50%         102.000000\n",
      "75%         107.000000\n",
      "max         115.000000\n",
      "Name: Customer_Satisfaction_Score, dtype: float64\n"
     ]
    }
   ],
   "source": [
    "print(\"Minimum score:\", df['Customer_Satisfaction_Score'].min())\n",
    "print(\"Maximum score:\", df['Customer_Satisfaction_Score'].max())\n",
    "print(df['Customer_Satisfaction_Score'].describe())"
   ]
  },
  {
   "cell_type": "code",
   "execution_count": 65,
   "metadata": {},
   "outputs": [
    {
     "data": {
      "image/png": "[encoded data removed]",
      "text/plain": [
       "<Figure size 1200x700 with 1 Axes>"
      ]
     },
     "metadata": {},
     "output_type": "display_data"
    }
   ],
   "source": [
    "import matplotlib.pyplot as plt\n",
    "import seaborn as sns\n",
    "\n",
    "# --- 1. Simulate the DataFrame based on your provided statistics ---\n",
    "# For demonstration, a dataset is created that is highly skewed towards the high end (100-107)\n",
    "df = pd.DataFrame({\n",
    "    'Customer_Satisfaction_Score': np.concatenate([\n",
    "        np.random.normal(loc=103, scale=3, size=450000),  # Cluster around the mean/median\n",
    "        np.random.uniform(low=32.25, high=99, size=50000), # Lower scores (the tail)\n",
    "        np.random.uniform(low=108, high=115, size=47568)   # High scores\n",
    "    ])\n",
    "})\n",
    "# Recalculate Q1 and Q3 from the simulated data\n",
    "Q1 = df['Customer_Satisfaction_Score'].quantile(0.25)\n",
    "Q3 = df['Customer_Satisfaction_Score'].quantile(0.75)\n",
    "\n",
    "# 2. Plot distribution\n",
    "plt.figure(figsize=(12, 7))\n",
    "ax = sns.histplot(\n",
    "    df['Customer_Satisfaction_Score'],\n",
    "    bins=40,\n",
    "    kde=True,\n",
    "    color='#3498db',\n",
    "    edgecolor='black'\n",
    ")\n",
    "# 3. Add threshold lines for Q1 and Q3\n",
    "plt.axvline(Q1, color='red', linestyle='--', linewidth=3, label=f'25th Percentile ({Q1:.2f})')\n",
    "plt.axvline(Q3, color='green', linestyle='--', linewidth=3, label=f'75th Percentile ({Q3:.2f})')\n",
    "# Determine text height based on the y-axis limit\n",
    "y_max = ax.get_ylim()[1]\n",
    "y_low = y_max * 0.70\n",
    "y_peak = y_max * 0.90\n",
    "# 4. Annotate LOW, MEDIUM, HIGH regions\n",
    "# LOW (32.25 to Q1)\n",
    "plt.text(\n",
    "    (df['Customer_Satisfaction_Score'].min() + Q1) / 2, \n",
    "    y_low, \n",
    "    'LOW\\n(25% of Data)', \n",
    "    color='red',\n",
    "    fontsize=12, \n",
    "    weight='bold', \n",
    "    ha='center'\n",
    ")\n",
    "# MEDIUM (Q1 to Q3) - Placed higher near the peak\n",
    "plt.text(\n",
    "    (Q1 + Q3) / 2, \n",
    "    y_peak, \n",
    "    'MEDIUM\\n(50% of Data)',\n",
    "    color='black', \n",
    "    fontsize=12, \n",
    "    weight='bold', \n",
    "    ha='center'\n",
    ")\n",
    "# HIGH (Q3 to Max)\n",
    "plt.text(\n",
    "    (Q3 + df['Customer_Satisfaction_Score'].max()) / 2, \n",
    "    y_low, \n",
    "    'HIGH\\n(25% of Data)', \n",
    "    color='green',\n",
    "    fontsize=12, \n",
    "    weight='bold', \n",
    "    ha='center'\n",
    ")\n",
    "# 5. Title, labels, legend\n",
    "plt.title('Customer Satisfaction Score Distribution (Percentile Binning)', fontsize=16)\n",
    "plt.xlabel('Customer Satisfaction Score')\n",
    "plt.ylabel('Frequency')\n",
    "plt.legend()\n",
    "plt.grid(axis='y', alpha=0.5)\n",
    "plt.tight_layout()\n",
    "plt.show()"
   ]
  },
  {
   "cell_type": "markdown",
   "metadata": {
    "id": "G_wah-brtNGE"
   },
   "source": [
    "# Justification for Target Variable Transformation  \n",
    "\n",
    "#### 1. Highly Skewed Distribution  \n",
    "- The **Customer Satisfaction Score** ranges from **32.25 to 115**.  \n",
    "- Key statistics:  \n",
    "  - **Mean:** 101.66  \n",
    "  - **Median:** 102  \n",
    "  - **75th percentile:** 107  \n",
    "  - **Maximum:** 115  \n",
    "- Most values are clustered toward the **high end**, showing a **positive skew**.  \n",
    "\n",
    "---\n",
    "\n",
    "#### 2. Challenges with Direct Classification  \n",
    "- Using **equal-width bins** or **linear Min-Max scaling** would **compress most scores** into the **upper range**.  \n",
    "- This would create **very few samples** in the **Low** and **Medium** classes.  \n",
    "- The result would be **class imbalance**, which negatively affects **model learning** and **predictive performance**.  \n",
    "\n",
    "---\n",
    "\n",
    "#### 3. Why Min-Max Scaling is Not Ideal for Target Variable  \n",
    "- **Min-Max normalization** linearly scales data but does **not correct skew**.  \n",
    "- After scaling, most data points would still cluster near the **top end**.  \n",
    "- This makes **class separation unclear**.  \n",
    "- For classification, we need **meaningful, well-separated categories**, not just scaled continuous values.  \n",
    "\n",
    "---\n",
    "\n",
    "#### 4. Why Percentile-Based Binning is Chosen  \n",
    "- Percentiles divide data **based on its actual distribution**, ensuring classes reflect the **true data pattern**.  \n",
    "- Chosen thresholds:  \n",
    "  - **Low:** 0–25th percentile (scores ≤ 100) → genuinely low satisfaction  \n",
    "  - **Medium:** 25–75th percentile (scores 101–107) → typical scores (majority group)  \n",
    "  - **High:** 75–100th percentile (scores ≥ 108) → highly satisfied customers  \n",
    "- This approach **balances class sizes** while keeping categories **interpretable** for business use.  \n",
    "\n",
    "---\n",
    "\n",
    "#### 5. Business and Modeling Benefits  \n",
    "- Produces **meaningful categories (Low, Medium, High)** for actionable decision-making.  \n",
    "- Prevents **model bias** toward the dominant high-score group.  \n",
    "- Improves **classification performance** by ensuring the model learns across **all satisfaction levels**.  \n"
   ]
  },
  {
   "cell_type": "code",
   "execution_count": 15,
   "metadata": {
    "colab": {
     "base_uri": "https://localhost:8080/"
    },
    "id": "t2uaEXCnuSgz",
    "outputId": "f483a30e-d80d-4c35-c15a-2294ca2f98e6"
   },
   "outputs": [
    {
     "name": "stdout",
     "output_type": "stream",
     "text": [
      "Low threshold: 100.0\n",
      "High threshold: 107.0\n",
      "Satisfaction_Category\n",
      "Medium    284581\n",
      "Low       174271\n",
      "High       88716\n",
      "Name: count, dtype: int64\n"
     ]
    }
   ],
   "source": [
    "# Calculate percentiles for thresholding\n",
    "low_threshold = df['Customer_Satisfaction_Score'].quantile(0.25)   # 25th percentile\n",
    "high_threshold = df['Customer_Satisfaction_Score'].quantile(0.75)  # 75th percentile\n",
    "\n",
    "print(f\"Low threshold: {low_threshold}\")\n",
    "print(f\"High threshold: {high_threshold}\")\n",
    "\n",
    "# Create a function to categorize scores\n",
    "def categorize_score(score):\n",
    "    if score <= low_threshold:\n",
    "        return 'Low'\n",
    "    elif score <= high_threshold:\n",
    "        return 'Medium'\n",
    "    else:\n",
    "        return 'High'\n",
    "\n",
    "# Apply the function to create the new target variable\n",
    "df['Satisfaction_Category'] = df['Customer_Satisfaction_Score'].apply(categorize_score)\n",
    "\n",
    "# Check the distribution of categories\n",
    "print(df['Satisfaction_Category'].value_counts())\n",
    "df = df.drop(columns=['Customer_Satisfaction_Score'])"
   ]
  },
  {
   "cell_type": "code",
   "execution_count": 16,
   "metadata": {
    "colab": {
     "base_uri": "https://localhost:8080/",
     "height": 347
    },
    "id": "krms4O4bu28X",
    "outputId": "da972124-e060-42e0-ac48-e7592e28e736"
   },
   "outputs": [
    {
     "data": {
      "text/html": [
       "<div>\n",
       "<style scoped>\n",
       "    .dataframe tbody tr th:only-of-type {\n",
       "        vertical-align: middle;\n",
       "    }\n",
       "\n",
       "    .dataframe tbody tr th {\n",
       "        vertical-align: top;\n",
       "    }\n",
       "\n",
       "    .dataframe thead th {\n",
       "        text-align: right;\n",
       "    }\n",
       "</style>\n",
       "<table border=\"1\" class=\"dataframe\">\n",
       "  <thead>\n",
       "    <tr style=\"text-align: right;\">\n",
       "      <th></th>\n",
       "      <th>Age</th>\n",
       "      <th>Gender</th>\n",
       "      <th>Occupation</th>\n",
       "      <th>Travel_Class</th>\n",
       "      <th>State_of_Residence</th>\n",
       "      <th>Duration_of_Stay_(Days)</th>\n",
       "      <th>Number_of_Companions</th>\n",
       "      <th>Purpose_of_Travel</th>\n",
       "      <th>Booking_Date</th>\n",
       "      <th>Departure_Date</th>\n",
       "      <th>Special_Requests</th>\n",
       "      <th>Loyalty_Program_Member</th>\n",
       "      <th>Total_Price</th>\n",
       "      <th>Destination_City</th>\n",
       "      <th>Destination_Country</th>\n",
       "      <th>Satisfaction_Category</th>\n",
       "    </tr>\n",
       "  </thead>\n",
       "  <tbody>\n",
       "    <tr>\n",
       "      <th>0</th>\n",
       "      <td>36.0</td>\n",
       "      <td>Female</td>\n",
       "      <td>Marketer</td>\n",
       "      <td>Business</td>\n",
       "      <td>Georgia</td>\n",
       "      <td>11.0</td>\n",
       "      <td>5</td>\n",
       "      <td>Tourism</td>\n",
       "      <td>2024-09-29</td>\n",
       "      <td>2025-01-07</td>\n",
       "      <td>Other</td>\n",
       "      <td>No</td>\n",
       "      <td>9217.06</td>\n",
       "      <td>Naples</td>\n",
       "      <td>Italy</td>\n",
       "      <td>Medium</td>\n",
       "    </tr>\n",
       "    <tr>\n",
       "      <th>1</th>\n",
       "      <td>22.0</td>\n",
       "      <td>Male</td>\n",
       "      <td>Curator</td>\n",
       "      <td>Economy</td>\n",
       "      <td>North Dakota</td>\n",
       "      <td>23.0</td>\n",
       "      <td>0</td>\n",
       "      <td>Research</td>\n",
       "      <td>2025-09-02</td>\n",
       "      <td>2025-12-26</td>\n",
       "      <td>Other</td>\n",
       "      <td>No</td>\n",
       "      <td>1462.33</td>\n",
       "      <td>Auckland</td>\n",
       "      <td>New Zealand</td>\n",
       "      <td>Medium</td>\n",
       "    </tr>\n",
       "    <tr>\n",
       "      <th>2</th>\n",
       "      <td>62.0</td>\n",
       "      <td>Female</td>\n",
       "      <td>Businessperson</td>\n",
       "      <td>Luxury</td>\n",
       "      <td>Nebraska</td>\n",
       "      <td>4.0</td>\n",
       "      <td>1</td>\n",
       "      <td>Tourism</td>\n",
       "      <td>2024-02-19</td>\n",
       "      <td>2025-01-04</td>\n",
       "      <td>No</td>\n",
       "      <td>Yes</td>\n",
       "      <td>700.00</td>\n",
       "      <td>Tokyo</td>\n",
       "      <td>Japan</td>\n",
       "      <td>Low</td>\n",
       "    </tr>\n",
       "    <tr>\n",
       "      <th>3</th>\n",
       "      <td>21.0</td>\n",
       "      <td>Female</td>\n",
       "      <td>Photographer</td>\n",
       "      <td>Economy</td>\n",
       "      <td>Nevada</td>\n",
       "      <td>23.0</td>\n",
       "      <td>1</td>\n",
       "      <td>Tourism</td>\n",
       "      <td>2023-05-07</td>\n",
       "      <td>2024-02-09</td>\n",
       "      <td>No</td>\n",
       "      <td>No</td>\n",
       "      <td>1333.22</td>\n",
       "      <td>Granada</td>\n",
       "      <td>Spain</td>\n",
       "      <td>High</td>\n",
       "    </tr>\n",
       "    <tr>\n",
       "      <th>4</th>\n",
       "      <td>42.0</td>\n",
       "      <td>Male</td>\n",
       "      <td>Soldier</td>\n",
       "      <td>Luxury</td>\n",
       "      <td>Minnesota</td>\n",
       "      <td>42.0</td>\n",
       "      <td>1</td>\n",
       "      <td>Unknown</td>\n",
       "      <td>2023-07-01</td>\n",
       "      <td>2024-03-15</td>\n",
       "      <td>Special Meal</td>\n",
       "      <td>No</td>\n",
       "      <td>700.00</td>\n",
       "      <td>Jeju Island</td>\n",
       "      <td>South Korea</td>\n",
       "      <td>Low</td>\n",
       "    </tr>\n",
       "  </tbody>\n",
       "</table>\n",
       "</div>"
      ],
      "text/plain": [
       "    Age  Gender      Occupation Travel_Class State_of_Residence  \\\n",
       "0  36.0  Female        Marketer     Business            Georgia   \n",
       "1  22.0    Male         Curator      Economy       North Dakota   \n",
       "2  62.0  Female  Businessperson       Luxury           Nebraska   \n",
       "3  21.0  Female    Photographer      Economy             Nevada   \n",
       "4  42.0    Male         Soldier       Luxury          Minnesota   \n",
       "\n",
       "   Duration_of_Stay_(Days)  Number_of_Companions Purpose_of_Travel  \\\n",
       "0                     11.0                     5           Tourism   \n",
       "1                     23.0                     0          Research   \n",
       "2                      4.0                     1           Tourism   \n",
       "3                     23.0                     1           Tourism   \n",
       "4                     42.0                     1           Unknown   \n",
       "\n",
       "  Booking_Date Departure_Date Special_Requests Loyalty_Program_Member  \\\n",
       "0   2024-09-29     2025-01-07            Other                     No   \n",
       "1   2025-09-02     2025-12-26            Other                     No   \n",
       "2   2024-02-19     2025-01-04               No                    Yes   \n",
       "3   2023-05-07     2024-02-09               No                     No   \n",
       "4   2023-07-01     2024-03-15     Special Meal                     No   \n",
       "\n",
       "   Total_Price Destination_City Destination_Country Satisfaction_Category  \n",
       "0      9217.06           Naples               Italy                Medium  \n",
       "1      1462.33         Auckland         New Zealand                Medium  \n",
       "2       700.00            Tokyo               Japan                   Low  \n",
       "3      1333.22          Granada               Spain                  High  \n",
       "4       700.00      Jeju Island         South Korea                   Low  "
      ]
     },
     "execution_count": 16,
     "metadata": {},
     "output_type": "execute_result"
    }
   ],
   "source": [
    "df.head()"
   ]
  },
  {
   "cell_type": "code",
   "execution_count": 17,
   "metadata": {
    "colab": {
     "base_uri": "https://localhost:8080/",
     "height": 209
    },
    "id": "OY61BZW2vHQ2",
    "outputId": "629ed60a-cfb1-4cf5-8781-edef40ccf19c"
   },
   "outputs": [
    {
     "data": {
      "text/plain": [
       "count     547568\n",
       "unique         3\n",
       "top       Medium\n",
       "freq      284581\n",
       "Name: Satisfaction_Category, dtype: object"
      ]
     },
     "execution_count": 17,
     "metadata": {},
     "output_type": "execute_result"
    }
   ],
   "source": [
    "df['Satisfaction_Category'].describe()"
   ]
  },
  {
   "cell_type": "markdown",
   "metadata": {},
   "source": [
    "## 5. Feature Engineering"
   ]
  },
  {
   "cell_type": "code",
   "execution_count": 18,
   "metadata": {
    "colab": {
     "base_uri": "https://localhost:8080/"
    },
    "id": "j1g7BQ2pIG5-",
    "outputId": "11b4f1b4-7aa9-4c9b-de4c-58c32fe35757"
   },
   "outputs": [
    {
     "name": "stdout",
     "output_type": "stream",
     "text": [
      "✅ Days_Before_Travel feature created\n",
      "Features: 14, Samples: 547568\n"
     ]
    }
   ],
   "source": [
    "# Create Days_Before_Travel feature\n",
    "if 'Booking_Date' in df.columns and 'Departure_Date' in df.columns:\n",
    "    df['Booking_Date'] = pd.to_datetime(df['Booking_Date'])\n",
    "    df['Departure_Date'] = pd.to_datetime(df['Departure_Date'])\n",
    "    df['Days_Before_Travel'] = (df['Departure_Date'] - df['Booking_Date']).dt.days\n",
    "    df.drop(['Booking_Date', 'Departure_Date'], axis=1, inplace=True)\n",
    "    print(\"✅ Days_Before_Travel feature created\")\n",
    "\n",
    "# Prepare features and target\n",
    "target = 'Satisfaction_Category'\n",
    "features = [col for col in df.columns if col not in [target, 'Customer_Satisfaction_Score']]\n",
    "X = df[features].copy()\n",
    "y = df[target].copy()\n",
    "\n",
    "print(f\"Features: {len(features)}, Samples: {len(X)}\")\n",
    "\n"
   ]
  },
  {
   "cell_type": "markdown",
   "metadata": {},
   "source": [
    "## 6. Model Preparation"
   ]
  },
  {
   "cell_type": "code",
   "execution_count": 19,
   "metadata": {},
   "outputs": [
    {
     "name": "stdout",
     "output_type": "stream",
     "text": [
      "Label mapping: {'High': 0, 'Low': 1, 'Medium': 2}\n",
      "Class weights: [6.172, 3.142, 1.924]\n",
      "Train: 438054, Test: 109514\n"
     ]
    }
   ],
   "source": [
    "# Encode target and calculate class weights\n",
    "le = LabelEncoder()\n",
    "y_encoded = le.fit_transform(y)\n",
    "\n",
    "class_counts = Counter(y_encoded)\n",
    "total_samples = sum(class_counts.values())\n",
    "class_weights = [total_samples / class_counts[i] for i in range(len(class_counts))]\n",
    "\n",
    "print(f\"Label mapping: {dict(zip(le.classes_, range(len(le.classes_))))}\")\n",
    "print(f\"Class weights: {[round(w, 3) for w in class_weights]}\")\n",
    "\n",
    "# Train-test split\n",
    "X_train, X_test, y_train, y_test = train_test_split(\n",
    "    X, y_encoded, test_size=0.2, random_state=42, stratify=y_encoded\n",
    ")\n",
    "print(f\"Train: {len(X_train)}, Test: {len(X_test)}\")"
   ]
  },
  {
   "cell_type": "markdown",
   "metadata": {},
   "source": [
    "## 7. Model Training & Evaluation"
   ]
  },
  {
   "cell_type": "markdown",
   "metadata": {},
   "source": [
    "#### CatBoost Model\n",
    "\n",
    "######  Why CatBoost Model is Preferred for Travel Satisfaction Prediction\n",
    "\n",
    "CatBoost is a gradient boosting algorithm developed specifically to handle categorical features efficiently and deliver strong performance on tabular data. Here’s why it is well-suited for this project:\n",
    "\n",
    "- **Native Categorical Feature Support:**  \n",
    "  CatBoost automatically processes categorical variables without the need for manual encoding (like one-hot or label encoding), preserving information and reducing preprocessing errors.\n",
    "\n",
    "- **Robust to Class Imbalance:**  \n",
    "  The model allows for custom class weights, which helps address the imbalanced satisfaction categories (Low, Medium, High) and improves predictive accuracy across all classes.\n",
    "\n",
    "- **Handles Large Datasets Efficiently:**  \n",
    "  With over 500,000 records and 16 features, CatBoost’s optimized implementation ensures fast training and scalability.\n",
    "\n",
    "- **Strong Generalization and Regularization:**  \n",
    "  Built-in regularization (like L2 leaf reg) and advanced boosting techniques help prevent overfitting, which is crucial for business-critical predictions.\n",
    "\n",
    "- **Superior Performance on Tabular Data:**  \n",
    "  CatBoost consistently outperforms other algorithms (like Random Forest, XGBoost, LightGBM) on structured datasets, especially when many categorical features are present.\n",
    "\n",
    "- **Easy Model Interpretation:**  \n",
    "  CatBoost provides feature importance metrics and supports SHAP value analysis, making it easier to explain model decisions to stakeholders.\n",
    "\n",
    "**Summary:**  \n",
    "CatBoost’s ability to natively handle categorical data, manage class imbalance, and deliver high accuracy makes it the ideal choice for predicting customer satisfaction categories in travel data."
   ]
  },
  {
   "cell_type": "code",
   "execution_count": 20,
   "metadata": {},
   "outputs": [
    {
     "name": "stdout",
     "output_type": "stream",
     "text": [
      "0:\tlearn: 1.0791394\ttest: 1.0789372\tbest: 1.0789372 (0)\ttotal: 318ms\tremaining: 31.5s\n",
      "50:\tlearn: 0.8442415\ttest: 0.8423180\tbest: 0.8423180 (50)\ttotal: 12.1s\tremaining: 11.6s\n",
      "99:\tlearn: 0.8295477\ttest: 0.8275838\tbest: 0.8275838 (99)\ttotal: 23.2s\tremaining: 0us\n",
      "\n",
      "bestTest = 0.8275838451\n",
      "bestIteration = 99\n",
      "\n",
      "\n",
      "=== CATBOOST RESULTS ===\n",
      "Macro F1: 0.6082\n",
      "Balanced Accuracy: 0.6237\n",
      "\n",
      "Classification Report:\n",
      "              precision    recall  f1-score   support\n",
      "\n",
      "        High       0.55      0.61      0.58     17743\n",
      "         Low       0.56      0.68      0.62     34854\n",
      "      Medium       0.69      0.58      0.63     56917\n",
      "\n",
      "    accuracy                           0.62    109514\n",
      "   macro avg       0.60      0.62      0.61    109514\n",
      "weighted avg       0.63      0.62      0.62    109514\n",
      "\n"
     ]
    }
   ],
   "source": [
    "# Identify categorical features\n",
    "cat_features = [i for i, col in enumerate(X.columns) if X[col].dtype == 'object']\n",
    "\n",
    "# Train CatBoost\n",
    "cb = CatBoostClassifier(\n",
    "    iterations=100, learning_rate=0.05, depth=5, l2_leaf_reg=8,\n",
    "    class_weights=class_weights, bootstrap_type='Bernoulli', subsample=0.6, rsm=0.8,\n",
    "    random_seed=42, verbose=50\n",
    ")\n",
    "\n",
    "cb.fit(X_train, y_train, eval_set=(X_test, y_test), cat_features=cat_features)\n",
    "\n",
    "# Evaluate\n",
    "y_pred_cb = cb.predict(X_test)\n",
    "cb_f1 = f1_score(y_test, y_pred_cb, average='macro')\n",
    "cb_balanced_acc = balanced_accuracy_score(y_test, y_pred_cb)\n",
    "\n",
    "print(\"\\n=== CATBOOST RESULTS ===\")\n",
    "print(f\"Macro F1: {cb_f1:.4f}\")\n",
    "print(f\"Balanced Accuracy: {cb_balanced_acc:.4f}\")\n",
    "print(\"\\nClassification Report:\")\n",
    "print(classification_report(y_test, y_pred_cb, target_names=le.classes_))"
   ]
  },
  {
   "cell_type": "code",
   "execution_count": 21,
   "metadata": {},
   "outputs": [
    {
     "data": {
      "text/html": [
       "<div>\n",
       "<style scoped>\n",
       "    .dataframe tbody tr th:only-of-type {\n",
       "        vertical-align: middle;\n",
       "    }\n",
       "\n",
       "    .dataframe tbody tr th {\n",
       "        vertical-align: top;\n",
       "    }\n",
       "\n",
       "    .dataframe thead th {\n",
       "        text-align: right;\n",
       "    }\n",
       "</style>\n",
       "<table border=\"1\" class=\"dataframe\">\n",
       "  <thead>\n",
       "    <tr style=\"text-align: right;\">\n",
       "      <th></th>\n",
       "      <th>Age</th>\n",
       "      <th>Gender</th>\n",
       "      <th>Occupation</th>\n",
       "      <th>Travel_Class</th>\n",
       "      <th>State_of_Residence</th>\n",
       "      <th>Duration_of_Stay_(Days)</th>\n",
       "      <th>Number_of_Companions</th>\n",
       "      <th>Purpose_of_Travel</th>\n",
       "      <th>Special_Requests</th>\n",
       "      <th>Loyalty_Program_Member</th>\n",
       "      <th>Total_Price</th>\n",
       "      <th>Destination_City</th>\n",
       "      <th>Destination_Country</th>\n",
       "      <th>Satisfaction_Category</th>\n",
       "      <th>Days_Before_Travel</th>\n",
       "    </tr>\n",
       "  </thead>\n",
       "  <tbody>\n",
       "    <tr>\n",
       "      <th>0</th>\n",
       "      <td>36.0</td>\n",
       "      <td>Female</td>\n",
       "      <td>Marketer</td>\n",
       "      <td>Business</td>\n",
       "      <td>Georgia</td>\n",
       "      <td>11.0</td>\n",
       "      <td>5</td>\n",
       "      <td>Tourism</td>\n",
       "      <td>Other</td>\n",
       "      <td>No</td>\n",
       "      <td>9217.06</td>\n",
       "      <td>Naples</td>\n",
       "      <td>Italy</td>\n",
       "      <td>Medium</td>\n",
       "      <td>100</td>\n",
       "    </tr>\n",
       "    <tr>\n",
       "      <th>1</th>\n",
       "      <td>22.0</td>\n",
       "      <td>Male</td>\n",
       "      <td>Curator</td>\n",
       "      <td>Economy</td>\n",
       "      <td>North Dakota</td>\n",
       "      <td>23.0</td>\n",
       "      <td>0</td>\n",
       "      <td>Research</td>\n",
       "      <td>Other</td>\n",
       "      <td>No</td>\n",
       "      <td>1462.33</td>\n",
       "      <td>Auckland</td>\n",
       "      <td>New Zealand</td>\n",
       "      <td>Medium</td>\n",
       "      <td>115</td>\n",
       "    </tr>\n",
       "    <tr>\n",
       "      <th>2</th>\n",
       "      <td>62.0</td>\n",
       "      <td>Female</td>\n",
       "      <td>Businessperson</td>\n",
       "      <td>Luxury</td>\n",
       "      <td>Nebraska</td>\n",
       "      <td>4.0</td>\n",
       "      <td>1</td>\n",
       "      <td>Tourism</td>\n",
       "      <td>No</td>\n",
       "      <td>Yes</td>\n",
       "      <td>700.00</td>\n",
       "      <td>Tokyo</td>\n",
       "      <td>Japan</td>\n",
       "      <td>Low</td>\n",
       "      <td>320</td>\n",
       "    </tr>\n",
       "    <tr>\n",
       "      <th>3</th>\n",
       "      <td>21.0</td>\n",
       "      <td>Female</td>\n",
       "      <td>Photographer</td>\n",
       "      <td>Economy</td>\n",
       "      <td>Nevada</td>\n",
       "      <td>23.0</td>\n",
       "      <td>1</td>\n",
       "      <td>Tourism</td>\n",
       "      <td>No</td>\n",
       "      <td>No</td>\n",
       "      <td>1333.22</td>\n",
       "      <td>Granada</td>\n",
       "      <td>Spain</td>\n",
       "      <td>High</td>\n",
       "      <td>278</td>\n",
       "    </tr>\n",
       "    <tr>\n",
       "      <th>4</th>\n",
       "      <td>42.0</td>\n",
       "      <td>Male</td>\n",
       "      <td>Soldier</td>\n",
       "      <td>Luxury</td>\n",
       "      <td>Minnesota</td>\n",
       "      <td>42.0</td>\n",
       "      <td>1</td>\n",
       "      <td>Unknown</td>\n",
       "      <td>Special Meal</td>\n",
       "      <td>No</td>\n",
       "      <td>700.00</td>\n",
       "      <td>Jeju Island</td>\n",
       "      <td>South Korea</td>\n",
       "      <td>Low</td>\n",
       "      <td>258</td>\n",
       "    </tr>\n",
       "  </tbody>\n",
       "</table>\n",
       "</div>"
      ],
      "text/plain": [
       "    Age  Gender      Occupation Travel_Class State_of_Residence  \\\n",
       "0  36.0  Female        Marketer     Business            Georgia   \n",
       "1  22.0    Male         Curator      Economy       North Dakota   \n",
       "2  62.0  Female  Businessperson       Luxury           Nebraska   \n",
       "3  21.0  Female    Photographer      Economy             Nevada   \n",
       "4  42.0    Male         Soldier       Luxury          Minnesota   \n",
       "\n",
       "   Duration_of_Stay_(Days)  Number_of_Companions Purpose_of_Travel  \\\n",
       "0                     11.0                     5           Tourism   \n",
       "1                     23.0                     0          Research   \n",
       "2                      4.0                     1           Tourism   \n",
       "3                     23.0                     1           Tourism   \n",
       "4                     42.0                     1           Unknown   \n",
       "\n",
       "  Special_Requests Loyalty_Program_Member  Total_Price Destination_City  \\\n",
       "0            Other                     No      9217.06           Naples   \n",
       "1            Other                     No      1462.33         Auckland   \n",
       "2               No                    Yes       700.00            Tokyo   \n",
       "3               No                     No      1333.22          Granada   \n",
       "4     Special Meal                     No       700.00      Jeju Island   \n",
       "\n",
       "  Destination_Country Satisfaction_Category  Days_Before_Travel  \n",
       "0               Italy                Medium                 100  \n",
       "1         New Zealand                Medium                 115  \n",
       "2               Japan                   Low                 320  \n",
       "3               Spain                  High                 278  \n",
       "4         South Korea                   Low                 258  "
      ]
     },
     "execution_count": 21,
     "metadata": {},
     "output_type": "execute_result"
    }
   ],
   "source": [
    "df.head()"
   ]
  },
  {
   "cell_type": "code",
   "execution_count": 30,
   "metadata": {},
   "outputs": [
    {
     "name": "stdout",
     "output_type": "stream",
     "text": [
      "Predicted Satisfaction Category: Medium\n"
     ]
    }
   ],
   "source": [
    "# Example of creating a new input DataFrame (replace with your actual values)\n",
    "# Make sure the column names and order match X_test\n",
    "\n",
    "# Create a dictionary with the correct data types and example values\n",
    "# based on the first row of X_test\n",
    "example_input_values = X_test.iloc[0].to_dict()\n",
    "\n",
    "# Update with your specific input values\n",
    "# Ensure the values match the expected type for each column (e.g., float for Age, string for Gender, etc.)\n",
    "your_input_values = {\n",
    "    'Age': 30.0,\n",
    "    'Gender': 'Female', # Example: use string for categorical features\n",
    "    'Occupation': 'Engineer',\n",
    "    'Travel_Class': 'Economy',\n",
    "    'State_of_Residence': 'California',\n",
    "    'Duration_of_Stay_(Days)': 10.0,\n",
    "    'Number_of_Companions': 1,\n",
    "    'Purpose_of_Travel': 'Business',\n",
    "    'Special_Requests': 'None',\n",
    "    'Loyalty_Program_Member': 'Yes',\n",
    "    'Total_Price': 1500.00,\n",
    "    'Destination_City': 'Paris',\n",
    "    'Destination_Country': 'France',\n",
    "    'Days_Before_Travel': 50,\n",
    "}\n",
    "\n",
    "# Create the new input DataFrame using the example values and updating with your specific values\n",
    "# This ensures the DataFrame has the correct columns and data types\n",
    "new_input_df = pd.DataFrame([example_input_values])\n",
    "new_input_df.update(pd.DataFrame([your_input_values]))\n",
    "\n",
    "# Make a prediction using the trained CatBoost model (cb)\n",
    "# Make sure cb is defined, which it is if you ran the previous cells\n",
    "prediction = cb.predict(new_input_df)\n",
    "\n",
    "# The prediction is an encoded value (0, 1, or 2). You'll need to map it back to the category:\n",
    "# {'High': 0, 'Low': 1, 'Medium': 2}\n",
    "satisfaction_mapping = {0: 'High', 1: 'Low', 2: 'Medium'}\n",
    "# Extract the scalar value from the prediction array\n",
    "predicted_category = satisfaction_mapping[prediction[0].item()]\n",
    "\n",
    "print(f\"Predicted Satisfaction Category: {predicted_category}\")"
   ]
  },
  {
   "cell_type": "code",
   "execution_count": 57,
   "metadata": {},
   "outputs": [
    {
     "name": "stdout",
     "output_type": "stream",
     "text": [
      "Predicted Satisfaction Category for the new input: Low\n"
     ]
    }
   ],
   "source": [
    "# Create a new set of input values for testing\n",
    "# You can modify these values to test different scenarios\n",
    "another_input_values = {\n",
    "    'Age': 25.0,\n",
    "    'Gender': 'Male',\n",
    "    'Occupation': 'Businessperson',\n",
    "    'Travel_Class': 'Business\t',\n",
    "    'State_of_Residence': 'New York',\n",
    "    'Duration_of_Stay_(Days)': 1,\n",
    "    'Number_of_Companions': 4,\n",
    "    'Purpose_of_Travel': 'Tourism',\n",
    "    'Special_Requests': 'No',\n",
    "    'Loyalty_Program_Member': 'Yes',\n",
    "    'Total_Price': 700.00,\n",
    "    'Destination_City': 'Tokyo',\n",
    "    'Destination_Country': 'Japan',\n",
    "    'Days_Before_Travel': 320,\n",
    "}\n",
    "\n",
    "# Create a DataFrame for the new input values, ensuring columns match X_test\n",
    "another_input_df = pd.DataFrame([another_input_values])\n",
    "\n",
    "# Make a prediction using the trained CatBoost model (cb)\n",
    "prediction_another = cb.predict(another_input_df)\n",
    "\n",
    "# Map the prediction back to the category\n",
    "predicted_category_another = satisfaction_mapping[prediction_another[0].item()]\n",
    "\n",
    "print(f\"Predicted Satisfaction Category for the new input: {predicted_category_another}\")"
   ]
  },
  {
   "cell_type": "code",
   "execution_count": 64,
   "metadata": {},
   "outputs": [
    {
     "name": "stdout",
     "output_type": "stream",
     "text": [
      "Predicted Satisfaction Category: High\n"
     ]
    }
   ],
   "source": [
    "# Example of creating a new input DataFrame (replace with your actual values)\n",
    "# Make sure the column names and order match X_test\n",
    "\n",
    "# Create a dictionary with the correct data types and example values\n",
    "# based on the first row of X_test\n",
    "example_input_values = X_test.iloc[0].to_dict()\n",
    "\n",
    "# Update with your specific input values\n",
    "# Ensure the values match the expected type for each column (e.g., float for Age, string for Gender, etc.)\n",
    "your_input_values = {\n",
    "    'Age': 20.0,\n",
    "    'Gender': 'Male', # Example: use string for categorical features\n",
    "    'Occupation': 'Teacher',\n",
    "    'Travel_Class': 'Business',\n",
    "    'State_of_Residence': 'Texas',\n",
    "    'Duration_of_Stay_(Days)': 2,\n",
    "    'Number_of_Companions': 3,\n",
    "    'Purpose_of_Travel': 'Research',\n",
    "    'Special_Requests': 'None',\n",
    "    'Loyalty_Program_Member': 'Yes',\n",
    "    'Total_Price': 10000,\n",
    "    'Destination_City': 'Tokyo',\n",
    "    'Destination_Country': 'Japan',\n",
    "    'Days_Before_Travel': 90,\n",
    "}\n",
    "\n",
    "# Create the new input DataFrame using the example values and updating with your specific values\n",
    "# This ensures the DataFrame has the correct columns and data types\n",
    "new_input_df = pd.DataFrame([example_input_values])\n",
    "new_input_df.update(pd.DataFrame([your_input_values]))\n",
    "\n",
    "# Make a prediction using the trained CatBoost model (cb)\n",
    "# Make sure cb is defined, which it is if you ran the previous cells\n",
    "prediction = cb.predict(new_input_df)\n",
    "\n",
    "# The prediction is an encoded value (0, 1, or 2). You'll need to map it back to the category:\n",
    "# {'High': 0, 'Low': 1, 'Medium': 2}\n",
    "satisfaction_mapping = {0: 'High', 1: 'Low', 2: 'Medium'}\n",
    "# Extract the scalar value from the prediction array\n",
    "predicted_category = satisfaction_mapping[prediction[0].item()]\n",
    "\n",
    "print(f\"Predicted Satisfaction Category: {predicted_category}\")"
   ]
  }
 ],
 "metadata": {
  "colab": {
   "provenance": []
  },
  "kernelspec": {
   "display_name": "Python 3",
   "name": "python3"
  },
  "language_info": {
   "codemirror_mode": {
    "name": "ipython",
    "version": 3
   },
   "file_extension": ".py",
   "mimetype": "text/x-python",
   "name": "python",
   "nbconvert_exporter": "python",
   "pygments_lexer": "ipython3",
   "version": "3.12.1"
  }
 },
 "nbformat": 4,
 "nbformat_minor": 0
}
